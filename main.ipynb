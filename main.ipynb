{
 "cells": [
  {
   "cell_type": "markdown",
   "metadata": {
    "id": "r4rCKcndPybL"
   },
   "source": [
    "# Lab : Image Classification using Convolutional Neural Networks\n",
    "\n",
    "At the end of this laboratory, you would get familiarized with\n",
    "\n",
    "*   Creating deep networks using Keras\n",
    "*   Steps necessary in training a neural network\n",
    "*   Prediction and performance analysis using neural networks\n",
    "\n",
    "---"
   ]
  },
  {
   "cell_type": "markdown",
   "metadata": {
    "id": "KdglSzOi4Cp-"
   },
   "source": [
    "# **In case you use a colaboratory environment**\n",
    "By default, Colab notebooks run on CPU.\n",
    "You can switch your notebook to run with GPU.\n",
    "\n",
    "In order to obtain access to the GPU, you need to choose the tab Runtime and then select “Change runtime type” as shown in the following figure:\n",
    "\n",
    "![Changing runtime](https://miro.medium.com/max/747/1*euE7nGZ0uJQcgvkpgvkoQg.png)\n",
    "\n",
    "When a pop-up window appears select GPU. Ensure “Hardware accelerator” is set to GPU."
   ]
  },
  {
   "cell_type": "markdown",
   "metadata": {
    "id": "9wkicuxZdrdq"
   },
   "source": [
    "# **Working with a new dataset: CIFAR-10**\n",
    "\n",
    "The CIFAR-10 dataset consists of 60000 32x32 colour images in 10 classes, with 6000 images per class. There are 50000 training images and 10000 test images. More information about CIFAR-10 can be found [here](https://www.cs.toronto.edu/~kriz/cifar.html).\n",
    "\n",
    "In Keras, the CIFAR-10 dataset is also preloaded in the form of four Numpy arrays. x_train and y_train contain the training set, while x_test and y_test contain the test data. The images are encoded as Numpy arrays and their corresponding labels ranging from 0 to 9.\n",
    "\n",
    "Your task is to:\n",
    "\n",
    "*   Visualize the images in CIFAR-10 dataset. Create a 10 x 10 plot showing 10 random samples from each class.\n",
    "*   Convert the labels to one-hot encoded form.\n",
    "*   Normalize the images.\n",
    "\n",
    "\n"
   ]
  },
  {
   "cell_type": "code",
   "execution_count": null,
   "metadata": {},
   "outputs": [],
   "source": [
    "import tensorflow as tf\n",
    "\n",
    "# Check if GPU is available\n",
    "print(\"Num GPUs Available: \", len(tf.config.experimental.list_physical_devices('GPU')))\n",
    "print(\"GPU Devices: \", tf.config.experimental.list_physical_devices('GPU'))"
   ]
  },
  {
   "cell_type": "code",
   "execution_count": null,
   "metadata": {
    "id": "Mrb20KGMtTFq"
   },
   "outputs": [],
   "source": [
    "import numpy as np\n",
    "import matplotlib.pyplot as plt\n",
    "from tensorflow.keras.datasets import cifar10\n",
    "from tensorflow.keras.utils import to_categorical\n",
    "\n",
    "# Load CIFAR-10 dataset\n",
    "(x_train, y_train), (x_test, y_test) = cifar10.load_data()"
   ]
  },
  {
   "cell_type": "code",
   "execution_count": null,
   "metadata": {},
   "outputs": [],
   "source": [
    "# Your code here :\n",
    "import matplotlib.pyplot as plt\n",
    "# Visualize 10 random samples from each class\n",
    "num_classes = 10\n",
    "samples_per_class = 10\n",
    "fig, axes = plt.subplots(num_classes, samples_per_class, figsize=(15, 15))\n",
    "\n",
    "for i in range(num_classes):\n",
    "\tclass_indices = np.where(y_train == i)[0]\n",
    "\trandom_indices = np.random.choice(class_indices, samples_per_class, replace=False)\n",
    "\tfor j, idx in enumerate(random_indices):\n",
    "\t\tax = axes[i, j]\n",
    "\t\tax.imshow(x_train[idx])\n",
    "\t\tax.axis('off')\n",
    "\n",
    "plt.show()"
   ]
  },
  {
   "cell_type": "code",
   "execution_count": null,
   "metadata": {},
   "outputs": [],
   "source": [
    "from tensorflow.keras.utils import to_categorical\n",
    "\n",
    "y_train = to_categorical(y_train, num_classes=10)\n",
    "y_test = to_categorical(y_test, num_classes=10)\n",
    "\n",
    "print(y_train.shape)\n",
    "print(y_test.shape)"
   ]
  },
  {
   "cell_type": "code",
   "execution_count": null,
   "metadata": {},
   "outputs": [],
   "source": [
    "#Normalize data \n",
    "x_train = x_train.astype('float32') / 255\n",
    "x_test = x_test.astype('float32') / 255\n",
    "\n",
    "print(x_train.shape)\n",
    "print(x_test.shape)\n"
   ]
  },
  {
   "cell_type": "markdown",
   "metadata": {
    "id": "2ER5WlMNRydp"
   },
   "source": [
    "## Define the following model (same as the one in tutorial)\n",
    "\n",
    "For the convolutional front-end, start with a single convolutional layer with a small filter size (3,3) and a modest number of filters (32) followed by a max pooling layer. \n",
    "\n",
    "Use the input as (32,32,3). \n",
    "\n",
    "The filter maps can then be flattened to provide features to the classifier. \n",
    "\n",
    "Use a dense layer with 100 units before the classification layer (which is also a dense layer with softmax activation)."
   ]
  },
  {
   "cell_type": "code",
   "execution_count": null,
   "metadata": {
    "id": "WfWCHxh8HGhN"
   },
   "outputs": [],
   "source": [
    "from keras.backend import clear_session\n",
    "clear_session()"
   ]
  },
  {
   "cell_type": "code",
   "execution_count": null,
   "metadata": {
    "id": "iSN6riPISBMG"
   },
   "outputs": [],
   "source": [
    "# Your code here :\n",
    "from keras.models import Sequential\n",
    "from keras.layers import Conv2D, MaxPooling2D, Flatten, Dense\n",
    "\n",
    "model = Sequential()\n",
    "model.add(Conv2D(32, (3, 3), activation='relu', kernel_initializer='he_uniform', input_shape=(32, 32, 3)))\n",
    "model.add(MaxPooling2D((2, 2)))\n",
    "model.add(Flatten())\n",
    "model.add(Dense(100, activation='relu', kernel_initializer='he_uniform'))\n",
    "model.add(Dense(10, activation='softmax'))\n",
    "\n",
    "model.summary()"
   ]
  },
  {
   "cell_type": "markdown",
   "metadata": {
    "id": "PGtivbQJT39U"
   },
   "source": [
    "*   Compile the model using categorical_crossentropy loss, SGD optimizer and use 'accuracy' as the metric.\n",
    "*   Use the above defined model to train CIFAR-10 and train the model for 50 epochs with a batch size of 512."
   ]
  },
  {
   "cell_type": "code",
   "execution_count": null,
   "metadata": {
    "id": "hn8UzPBZugVp"
   },
   "outputs": [],
   "source": [
    "# Your code here :\n",
    "model.compile(optimizer='sgd', loss='categorical_crossentropy', metrics=['accuracy'])\n",
    "history = model.fit(x_train, y_train, batch_size=512, epochs=50, validation_split=0.1)\n"
   ]
  },
  {
   "cell_type": "markdown",
   "metadata": {},
   "source": [
    "*   Plot the cross entropy loss curve and the accuracy curve"
   ]
  },
  {
   "cell_type": "code",
   "execution_count": null,
   "metadata": {},
   "outputs": [],
   "source": [
    "# Your code here :\n",
    "plt.subplot(211)\n",
    "plt.title('Cross Entropy Loss')\n",
    "plt.plot(history.history['loss'], color='blue', label='train')\n",
    "plt.plot(history.history['val_loss'], color='red', label='val')\n",
    "\n",
    "# plot accuracy\n",
    "plt.subplot(212)\n",
    "plt.title('Classification Accuracy')\n",
    "plt.plot(history.history['accuracy'], color='green', label='train')\n",
    "plt.plot(history.history['val_accuracy'], color='red', label='val')\n",
    "plt.show()"
   ]
  },
  {
   "cell_type": "code",
   "execution_count": null,
   "metadata": {},
   "outputs": [],
   "source": [
    "# Your code here :\n",
    "test_loss, test_acc = model.evaluate(x_test, y_test)\n",
    "print('Test loss:', test_loss)\n",
    "print('Test accuracy:', test_acc)"
   ]
  },
  {
   "cell_type": "markdown",
   "metadata": {
    "id": "G2mrWK5hSB_o"
   },
   "source": [
    "## Defining Deeper Architectures: VGG Models\n",
    "\n",
    "*   Define a deeper model architecture for CIFAR-10 dataset and train the new model for 50 epochs with a batch size of 512. We will use VGG model as the architecture.\n",
    "\n",
    "Stack two convolutional layers with 32 filters, each of 3 x 3. \n",
    "\n",
    "Use a max pooling layer and next flatten the output of the previous layer and add a dense layer with 128 units before the classification layer. \n",
    "\n",
    "For all the layers, use ReLU activation function. \n",
    "\n",
    "Use same padding for the layers to ensure that the height and width of each layer output matches the input\n"
   ]
  },
  {
   "cell_type": "code",
   "execution_count": null,
   "metadata": {
    "id": "A80vLxW9FIek"
   },
   "outputs": [],
   "source": [
    "from keras.backend import clear_session\n",
    "clear_session()"
   ]
  },
  {
   "cell_type": "code",
   "execution_count": null,
   "metadata": {
    "id": "cgca5dUNSFNc"
   },
   "outputs": [],
   "source": [
    "# Your code here :\n",
    "from keras.models import Sequential\n",
    "from keras.layers import Conv2D, MaxPooling2D, Flatten, Dense\n",
    "\n",
    "model2 = Sequential()\n",
    "model2.add(Conv2D(32, (3, 3), activation='relu', kernel_initializer='he_uniform', padding='same', input_shape=(32, 32, 3)))\n",
    "model2.add(Conv2D(32, (3, 3), activation='relu', kernel_initializer='he_uniform', padding='same'))\n",
    "model2.add(MaxPooling2D((2, 2)))\n",
    "model2.add(Flatten())\n",
    "model2.add(Dense(128, activation='relu', kernel_initializer='he_uniform'))\n",
    "model2.add(Dense(10, activation='softmax'))\n",
    "\n",
    "model2.summary()\n"
   ]
  },
  {
   "cell_type": "markdown",
   "metadata": {
    "id": "ZwaPphEBUtlC"
   },
   "source": [
    "*   Compile the model using categorical_crossentropy loss, SGD optimizer and use 'accuracy' as the metric.\n",
    "*   Use the above defined model to train CIFAR-10 and train the model for 50 epochs with a batch size of 512."
   ]
  },
  {
   "cell_type": "code",
   "execution_count": null,
   "metadata": {
    "id": "Bc2qtU0mUvVA"
   },
   "outputs": [],
   "source": [
    "# Your code here :\n",
    "# Compile the model\n",
    "model2.compile(optimizer='sgd', loss='categorical_crossentropy', metrics=['accuracy'])\n"
   ]
  },
  {
   "cell_type": "code",
   "execution_count": null,
   "metadata": {},
   "outputs": [],
   "source": [
    "history2 = model2.fit(x_train, y_train, batch_size=512, epochs=50, validation_data=(x_test, y_test))"
   ]
  },
  {
   "cell_type": "markdown",
   "metadata": {
    "id": "_2cRr2ZFSFds"
   },
   "source": [
    "*   Compare the performance of both the models by plotting the loss and accuracy curves of both the training steps. Does the deeper model perform better? Comment on the observation.\n",
    " "
   ]
  },
  {
   "cell_type": "code",
   "execution_count": null,
   "metadata": {
    "id": "F8OSHAf5SJPr"
   },
   "outputs": [],
   "source": [
    "# Your code here :\n",
    "plt.subplot(211)\n",
    "plt.title('Cross Entropy Loss')\n",
    "plt.plot(history2.history['loss'], color='blue', label='train')\n",
    "plt.plot(history2.history['val_loss'], color='red', label='val')\n",
    "\n",
    "# plot accuracy\n",
    "plt.subplot(212)\n",
    "plt.title('Classification Accuracy')\n",
    "plt.plot(history2.history['accuracy'], color='green', label='train')\n",
    "plt.plot(history2.history['val_accuracy'], color='red', label='val')\n",
    "plt.show()"
   ]
  },
  {
   "cell_type": "code",
   "execution_count": null,
   "metadata": {},
   "outputs": [],
   "source": [
    "# Plot both models' loss curves\n",
    "plt.plot(history.history['val_loss'], label='Basic Model Validation Loss')\n",
    "plt.plot(history2.history['val_loss'], label='VGG Model Validation Loss')\n",
    "plt.title('Loss Comparison')\n",
    "plt.xlabel('Epochs')\n",
    "plt.ylabel('Loss')\n",
    "plt.legend()\n",
    "plt.show()\n",
    "\n",
    "# Plot both models' accuracy curves\n",
    "plt.plot(history.history['val_accuracy'], label='Basic Model Validation Accuracy')\n",
    "plt.plot(history2.history['val_accuracy'], label='VGG Model Validation Accuracy')\n",
    "plt.title('Accuracy Comparison')\n",
    "plt.xlabel('Epochs')\n",
    "plt.ylabel('Accuracy')\n",
    "plt.legend()\n",
    "plt.show()"
   ]
  },
  {
   "cell_type": "markdown",
   "metadata": {
    "id": "Ri9kU3wa3Rei"
   },
   "source": [
    "**Comment on the observation: **\n",
    " *By comparing the Accuracy and the Loss in the above plot, we can see that the Basic VGG model did bettter.*\n",
    " *This model include more layer, which help the model get mor representations of the data, obtaining more characterictis that are beneficial for the predictions.*"
   ]
  },
  {
   "cell_type": "markdown",
   "metadata": {
    "id": "MzXmO1WoSKMY"
   },
   "source": [
    "*   Use predict function to predict the output for the test split\n",
    "*   Plot the confusion matrix for the new model and comment on the class confusions.\n"
   ]
  },
  {
   "cell_type": "markdown",
   "metadata": {
    "id": "WUBrvRomU5O_"
   },
   "source": [
    "**Comment here :**\n",
    "\n",
    "*From the accuracy evaluation we get 0.57 for the basic model and 0.65 fro the Basic VGG model. The loss for the bascic model is 1.21 and for the Basic VGG is 1.06*\n",
    "\n",
    "..."
   ]
  },
  {
   "cell_type": "markdown",
   "metadata": {
    "id": "ffwVz-FLSNG7"
   },
   "source": [
    "*    Print the test accuracy for the trained model."
   ]
  },
  {
   "cell_type": "code",
   "execution_count": null,
   "metadata": {
    "id": "L4WX3_uLSN5I"
   },
   "outputs": [],
   "source": [
    "# Your code here :\n",
    "test_loss2, test_acc2 = model2.evaluate(x_test, y_test)\n",
    "print('Test loss - VGG:', test_loss2)\n",
    "print('Test accuracy - VGG:', test_acc2)\n",
    "\n",
    "\n",
    "# Your code here :\n",
    "test_loss, test_acc = model.evaluate(x_test, y_test)\n",
    "print('Test loss - Basic:', test_loss)\n",
    "print('Test accuracy - Basic:', test_acc)\n"
   ]
  },
  {
   "cell_type": "code",
   "execution_count": null,
   "metadata": {},
   "outputs": [],
   "source": [
    "#Confusion matrix for VGG basic model\n",
    "predictions_vgg = model2.predict(x_test)\n",
    "\n",
    "print(predictions_vgg[0])\n",
    "\n",
    "import numpy as np\n",
    "predictions_vgg = np.argmax(predictions_vgg, axis=1)\n",
    "\n",
    "from sklearn.metrics import confusion_matrix\n",
    "gt = np.argmax(y_test, axis=1)\n",
    "\n",
    "confusion_matrix(gt, predictions_vgg)"
   ]
  },
  {
   "cell_type": "markdown",
   "metadata": {
    "id": "dySqfA6PVBjQ"
   },
   "source": [
    "## Define the complete VGG architecture.\n",
    "\n",
    "Stack two convolutional layers with 64 filters, each of 3 x 3 followed by max pooling layer. \n",
    "\n",
    "Stack two more convolutional layers with 128 filters, each of 3 x 3, followed by max pooling, followed by two more convolutional layers with 256 filters, each of 3 x 3, followed by max pooling. \n",
    "\n",
    "Flatten the output of the previous layer and add a dense layer with 128 units before the classification layer. \n",
    "\n",
    "For all the layers, use ReLU activation function. \n",
    "\n",
    "Use same padding for the layers to ensure that the height and width of each layer output matches the input\n",
    "\n",
    "*   Change the size of input to 64 x 64."
   ]
  },
  {
   "cell_type": "code",
   "execution_count": null,
   "metadata": {
    "id": "zm35siILFNT0"
   },
   "outputs": [],
   "source": [
    "from keras.backend import clear_session\n",
    "clear_session()"
   ]
  },
  {
   "cell_type": "code",
   "execution_count": null,
   "metadata": {
    "id": "oH4lDVBuVA_Q"
   },
   "outputs": [],
   "source": [
    "# Your code here :\n",
    "#Create model\n",
    "model3 = Sequential()\n",
    "model3.add(Conv2D(64, (3, 3), activation='relu',  kernel_initializer='he_uniform', input_shape=(32, 32, 3)))\n",
    "model3.add(Conv2D(64, (3, 3), activation='relu', kernel_initializer='he_uniform', padding='same'))\n",
    "model3.add(MaxPooling2D((2, 2)))\n",
    "model3.add(Conv2D(128, (3, 3), activation='relu',  kernel_initializer='he_uniform', padding='same'))\n",
    "model3.add(Conv2D(128, (3, 3), activation='relu', kernel_initializer='he_uniform', padding='same'))\n",
    "model3.add(MaxPooling2D((2, 2)))\n",
    "model3.add(Conv2D(256, (3, 3), activation='relu', kernel_initializer='he_uniform', padding='same'))\n",
    "model3.add(Conv2D(256, (3, 3), activation='relu', kernel_initializer='he_uniform', padding='same'))\n",
    "model3.add(MaxPooling2D((2, 2)))\n",
    "model3.add(Flatten())\n",
    "model3.add(Dense(128, activation='relu', kernel_initializer='he_uniform'))\n",
    "model3.add(Dense(10, activation='softmax'))\n",
    "model3.summary()\n"
   ]
  },
  {
   "cell_type": "markdown",
   "metadata": {
    "id": "Qu_B8kJGWhcM"
   },
   "source": [
    "*   Compile the model using categorical_crossentropy loss, SGD optimizer and use 'accuracy' as the metric.\n",
    "*   Use the above defined model to train CIFAR-10 and train the model for 10 epochs with a batch size of 512.\n",
    "*   Predict the output for the test split and plot the confusion matrix for the new model and comment on the class confusions."
   ]
  },
  {
   "cell_type": "code",
   "execution_count": null,
   "metadata": {
    "id": "4elnDWnjEbmO"
   },
   "outputs": [],
   "source": [
    "# Your code here :\n",
    "model3.compile(optimizer='sgd', loss='categorical_crossentropy', metrics=['accuracy'])\n",
    "history3 = model3.fit(x_train, y_train, batch_size=512, epochs=50, validation_data=(x_test, y_test))"
   ]
  },
  {
   "cell_type": "code",
   "execution_count": null,
   "metadata": {},
   "outputs": [],
   "source": [
    "test_loss3, test_acc3 = model3.evaluate(x_test, y_test)\n",
    "print('Test loss - VGG Complete:', test_loss3)\n",
    "print('Test accuracy - VGG Complete:', test_acc3)"
   ]
  },
  {
   "cell_type": "code",
   "execution_count": null,
   "metadata": {},
   "outputs": [],
   "source": [
    "#Confusion matrix for VGG Complete model\n",
    "predictions_vgg2 = model3.predict(x_test)\n",
    "\n",
    "print(predictions_vgg2[0])\n",
    "\n",
    "import numpy as np\n",
    "predictions_vgg2 = np.argmax(predictions_vgg2, axis=1)\n",
    "\n",
    "from sklearn.metrics import confusion_matrix\n",
    "gt1 = np.argmax(y_test, axis=1)\n",
    "\n",
    "confusion_matrix(gt1, predictions_vgg2)"
   ]
  },
  {
   "cell_type": "markdown",
   "metadata": {
    "id": "2dlzFt0SXGDQ"
   },
   "source": [
    "# Understanding deep networks\n",
    "\n",
    "*   What is the use of activation functions in network? Why is it needed?\n",
    "*   We have used softmax activation function in the exercise. There are other activation functions available too. What is the difference between sigmoid activation and softmax activation?\n",
    "*   What is the difference between categorical crossentropy and binary crossentropy loss?"
   ]
  },
  {
   "cell_type": "markdown",
   "metadata": {
    "id": "sPy_1EWXX6fp"
   },
   "source": [
    "**Write the answers below :**\n",
    "\n",
    "1 - Use of activation functions:\n",
    "-Activation functions introduce non-linearity into the network, allowing it to learn and model complex data pattern.\n",
    "\n",
    "2 - Key Differences between sigmoid and softmax:\n",
    "-The sigmoid activation function outputs a value between 0 and 1 for each input, making it suitable for binary classification problems.\n",
    "-The softmax activation function outputs a probability distribution over multiple classes, making it suitable for multi-class classification problems.\n",
    "-In other words, use sigmoid for binary classification and softmax for multi-class classification.\n",
    "\n",
    "3 - Key Differences between categorical crossentropy and binary crossentropy loss:\n",
    "-Categorical crossentropy is used for multi-class classification problems where each sample belongs to one of many classes.\n",
    "-Binary crossentropy is used for binary classification problems where each sample belongs to one of two classes.\n",
    "-Categorical used for Multi-class classification anf Binary is used for binary classification\n"
   ]
  }
 ],
 "metadata": {
  "accelerator": "GPU",
  "colab": {
   "collapsed_sections": [],
   "provenance": [],
   "toc_visible": true
  },
  "kernelspec": {
   "display_name": "py_gpu",
   "language": "python",
   "name": "python3"
  },
  "language_info": {
   "codemirror_mode": {
    "name": "ipython",
    "version": 3
   },
   "file_extension": ".py",
   "mimetype": "text/x-python",
   "name": "python",
   "nbconvert_exporter": "python",
   "pygments_lexer": "ipython3",
   "version": "3.9.18"
  }
 },
 "nbformat": 4,
 "nbformat_minor": 0
}
